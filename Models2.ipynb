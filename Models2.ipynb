{
  "cells": [
    {
      "cell_type": "markdown",
      "metadata": {
        "id": "view-in-github",
        "colab_type": "text"
      },
      "source": [
        "<a href=\"https://colab.research.google.com/github/AnastasiaBrinati/experiments/blob/main/Models2.ipynb\" target=\"_parent\"><img src=\"https://colab.research.google.com/assets/colab-badge.svg\" alt=\"Open In Colab\"/></a>"
      ]
    },
    {
      "cell_type": "markdown",
      "metadata": {
        "id": "cRa-Ex5SXAWo"
      },
      "source": [
        " **PROVA MODELLI CENTRALIZZATI PREDIZIONE INVOCATIONS' RATE**\n",
        "\n"
      ]
    },
    {
      "cell_type": "markdown",
      "metadata": {
        "id": "L5az4lSjaAcY"
      },
      "source": [
        "#### Imports"
      ]
    },
    {
      "cell_type": "code",
      "execution_count": null,
      "metadata": {
        "id": "jI6RD5ncW6ul"
      },
      "outputs": [],
      "source": [
        "import matplotlib.pyplot as plt\n",
        "import numpy as np\n",
        "import pandas as pd\n",
        "import seaborn as sns\n",
        "\n",
        "# Make NumPy printouts easier to read.\n",
        "np.set_printoptions(precision=3, suppress=True)\n",
        "\n",
        "import tensorflow as tf\n",
        "\n",
        "from tensorflow import keras\n",
        "from keras import layers\n",
        "from tensorflow.keras.callbacks import EarlyStopping\n",
        "\n",
        "!pip install -q -U keras-tuner\n",
        "import keras_tuner as kt\n",
        "\n",
        "# Use seaborn for pairplot.\n",
        "!pip install datasets\n",
        "\n",
        "from datasets import load_dataset"
      ]
    },
    {
      "cell_type": "markdown",
      "source": [
        "# Data"
      ],
      "metadata": {
        "id": "nKCuACLTxKo3"
      }
    },
    {
      "cell_type": "code",
      "source": [
        "dataset_60 = load_dataset(\"anastasiafrosted/globus_60\", download_mode=\"force_redownload\")\n",
        "dataset_300 = load_dataset(\"anastasiafrosted/globus_300\", download_mode=\"force_redownload\")\n",
        "dataset_3600 = load_dataset(\"anastasiafrosted/globus_3600\", download_mode=\"force_redownload\")\n",
        "dataset_86400 = load_dataset(\"anastasiafrosted/globus_86400\", download_mode=\"force_redownload\")\n",
        "\n",
        "df_60 = pd.DataFrame(dataset_60['train'])\n",
        "df_300 = pd.DataFrame(dataset_300['train'])\n",
        "df_3600 = pd.DataFrame(dataset_3600['train'])\n",
        "df_86400 = pd.DataFrame(dataset_86400['train'])\n",
        "\n",
        "# Ensure the `timestamp` column is in datetime format\n",
        "df_60['timestamp'] = pd.to_datetime(df_60['timestamp'])\n",
        "df_300['timestamp'] = pd.to_datetime(df_300['timestamp'])\n",
        "df_3600['timestamp'] = pd.to_datetime(df_3600['timestamp'])\n",
        "df_86400['timestamp'] = pd.to_datetime(df_86400['timestamp'])"
      ],
      "metadata": {
        "id": "m9vg7UxM1F0X"
      },
      "execution_count": null,
      "outputs": []
    },
    {
      "cell_type": "code",
      "source": [
        "data = df_86400\n",
        "data = data.set_index(\"timestamp\")\n",
        "#data.head()"
      ],
      "metadata": {
        "id": "zi9li5lG6EwU"
      },
      "execution_count": 189,
      "outputs": []
    },
    {
      "cell_type": "code",
      "source": [
        "train_data = data[\"2022-12-20\":\"2023-06-14\"]\n",
        "valid_data = data[\"2023-06-15\":\"2023-07-01\"]\n",
        "test_data = data[\"2023-07-01\":]"
      ],
      "metadata": {
        "id": "Sk6mlQOLnQ-X"
      },
      "execution_count": 196,
      "outputs": []
    },
    {
      "cell_type": "markdown",
      "source": [
        "#### Scaling"
      ],
      "metadata": {
        "id": "FJ8w3ZbU_t9k"
      }
    },
    {
      "cell_type": "code",
      "source": [
        "from sklearn.preprocessing import StandardScaler\n",
        "\n",
        "# Crea un'istanza dello scaler\n",
        "scaler = StandardScaler()\n",
        "\n",
        "# Per il dataset di training\n",
        "scaled_train = train_data.copy()\n",
        "scaled_train[scaled_train.columns.drop('avg_invocations_rate')] = scaler.fit_transform(\n",
        "    train_data[train_data.columns.drop('avg_invocations_rate')]\n",
        ")\n",
        "train = scaled_train\n",
        "\n",
        "# Per il dataset di validazione\n",
        "scaled_valid = valid_data.copy()\n",
        "scaled_valid[scaled_valid.columns.drop('avg_invocations_rate')] = scaler.transform(\n",
        "    valid_data[valid_data.columns.drop('avg_invocations_rate')]\n",
        ")\n",
        "valid = scaled_valid\n",
        "\n",
        "# Per il dataset di test\n",
        "scaled_test = test_data.copy()\n",
        "scaled_test[scaled_test.columns.drop('avg_invocations_rate')] = scaler.transform(\n",
        "    test_data[test_data.columns.drop('avg_invocations_rate')]\n",
        ")\n",
        "test = scaled_test"
      ],
      "metadata": {
        "id": "s-tLc3Fy_s5A"
      },
      "execution_count": 197,
      "outputs": []
    },
    {
      "cell_type": "markdown",
      "source": [
        "#### Config (Parameters)"
      ],
      "metadata": {
        "id": "zueUqeqVAfGd"
      }
    },
    {
      "cell_type": "code",
      "source": [
        "batch_size = 32\n",
        "num_features = 12\n",
        "sequence_lenght = 7\n",
        "prediction_lenght = 7\n",
        "seed = 42"
      ],
      "metadata": {
        "id": "y7elcPdEvBJi"
      },
      "execution_count": 198,
      "outputs": []
    },
    {
      "cell_type": "markdown",
      "source": [
        "# Models"
      ],
      "metadata": {
        "id": "YtK6Gsf9xTaH"
      }
    },
    {
      "cell_type": "markdown",
      "source": [
        "## Forecasting one-step-ahead"
      ],
      "metadata": {
        "id": "1PnhFaYH80cD"
      }
    },
    {
      "cell_type": "code",
      "source": [
        "def fit_and_evaluate(model, train_set, valid_set, learning_rate=0.01, epochs=5):\n",
        "    early_stopping_cb = tf.keras.callbacks.EarlyStopping(monitor=\"val_mae\", patience=10, restore_best_weights=True)\n",
        "    opt = tf.keras.optimizers.SGD(learning_rate=learning_rate, momentum=0.9)\n",
        "\n",
        "    model.compile(loss=tf.keras.losses.Huber(), optimizer=opt, metrics=[\"mae\"])\n",
        "    history = model.fit(train_set, validation_data=valid_set, epochs=epochs, callbacks=[early_stopping_cb])\n",
        "    valid_loss, valid_mae = model.evaluate(valid_set)\n",
        "    return valid_mae * 1e6"
      ],
      "metadata": {
        "id": "neRK8rLkAbsP"
      },
      "execution_count": 199,
      "outputs": []
    },
    {
      "cell_type": "markdown",
      "source": [
        "### Univariate series"
      ],
      "metadata": {
        "id": "bAKasPO9BNJM"
      }
    },
    {
      "cell_type": "code",
      "source": [
        "tr = train['avg_invocations_rate']\n",
        "vl = valid['avg_invocations_rate']"
      ],
      "metadata": {
        "id": "JvcCYey10uUj"
      },
      "execution_count": 200,
      "outputs": []
    },
    {
      "cell_type": "code",
      "source": [
        "tf.random.set_seed(seed)  # extra code – ensures reproducibility\n",
        "train_ds = tf.keras.utils.timeseries_dataset_from_array(\n",
        "    tr.to_numpy(),\n",
        "    targets=tr[sequence_lenght:],\n",
        "    sequence_length=sequence_lenght,\n",
        "    batch_size=batch_size,\n",
        "    shuffle=True,\n",
        "    seed=seed\n",
        ")\n",
        "valid_ds = tf.keras.utils.timeseries_dataset_from_array(\n",
        "    vl.to_numpy(),\n",
        "    targets=vl[sequence_lenght:],\n",
        "    sequence_length=sequence_lenght,\n",
        "    batch_size=batch_size\n",
        ")"
      ],
      "metadata": {
        "id": "CFLeei70zjZF"
      },
      "execution_count": 201,
      "outputs": []
    },
    {
      "cell_type": "markdown",
      "source": [
        "#### Linear Model"
      ],
      "metadata": {
        "id": "_Lg2XCln7_R-"
      }
    },
    {
      "cell_type": "code",
      "source": [
        "model = tf.keras.Sequential([\n",
        "    tf.keras.layers.Dense(1, input_shape=[sequence_lenght])\n",
        "])"
      ],
      "metadata": {
        "id": "4yD45c6C0F-I"
      },
      "execution_count": null,
      "outputs": []
    },
    {
      "cell_type": "code",
      "source": [
        "fit_and_evaluate(model, train_ds, valid_ds)"
      ],
      "metadata": {
        "colab": {
          "base_uri": "https://localhost:8080/"
        },
        "id": "FIzGSeNZ8aY0",
        "outputId": "d9cbce25-4e6e-4b18-9cbb-f92cc2f19ed4"
      },
      "execution_count": 203,
      "outputs": [
        {
          "output_type": "stream",
          "name": "stdout",
          "text": [
            "Epoch 1/5\n",
            "\u001b[1m5/5\u001b[0m \u001b[32m━━━━━━━━━━━━━━━━━━━━\u001b[0m\u001b[37m\u001b[0m \u001b[1m1s\u001b[0m 49ms/step - loss: 0.0031 - mae: 0.0615 - val_loss: 0.0023 - val_mae: 0.0550\n",
            "Epoch 2/5\n",
            "\u001b[1m5/5\u001b[0m \u001b[32m━━━━━━━━━━━━━━━━━━━━\u001b[0m\u001b[37m\u001b[0m \u001b[1m0s\u001b[0m 13ms/step - loss: 0.0021 - mae: 0.0505 - val_loss: 0.0016 - val_mae: 0.0467\n",
            "Epoch 3/5\n",
            "\u001b[1m5/5\u001b[0m \u001b[32m━━━━━━━━━━━━━━━━━━━━\u001b[0m\u001b[37m\u001b[0m \u001b[1m0s\u001b[0m 15ms/step - loss: 0.0017 - mae: 0.0439 - val_loss: 0.0011 - val_mae: 0.0377\n",
            "Epoch 4/5\n",
            "\u001b[1m5/5\u001b[0m \u001b[32m━━━━━━━━━━━━━━━━━━━━\u001b[0m\u001b[37m\u001b[0m \u001b[1m0s\u001b[0m 14ms/step - loss: 0.0017 - mae: 0.0440 - val_loss: 8.7370e-04 - val_mae: 0.0318\n",
            "Epoch 5/5\n",
            "\u001b[1m5/5\u001b[0m \u001b[32m━━━━━━━━━━━━━━━━━━━━\u001b[0m\u001b[37m\u001b[0m \u001b[1m0s\u001b[0m 11ms/step - loss: 0.0013 - mae: 0.0400 - val_loss: 7.9554e-04 - val_mae: 0.0316\n",
            "\u001b[1m1/1\u001b[0m \u001b[32m━━━━━━━━━━━━━━━━━━━━\u001b[0m\u001b[37m\u001b[0m \u001b[1m0s\u001b[0m 37ms/step - loss: 7.9554e-04 - mae: 0.0316\n"
          ]
        },
        {
          "output_type": "execute_result",
          "data": {
            "text/plain": [
              "31557.120382785797"
            ]
          },
          "metadata": {},
          "execution_count": 203
        }
      ]
    },
    {
      "cell_type": "markdown",
      "source": [
        "#### Simple RNN"
      ],
      "metadata": {
        "id": "brUbxzjK77Rr"
      }
    },
    {
      "cell_type": "markdown",
      "source": [
        "Recall that the input_shape argument ignores\n",
        "the first dimension (i.e., the batch size), and since recurrent layers can accept\n",
        "input sequences of any length, we can set the second dimension to None, which\n",
        "means “any size”. Lastly, since we’re dealing with a univariate time series, we\n",
        "need the last dimension’s size to be 1. This is why we specified the input shape\n",
        "* [None, 1] : it means “univariate sequences of any length”.\n"
      ],
      "metadata": {
        "id": "z0poyRAc6dBG"
      }
    },
    {
      "cell_type": "code",
      "source": [
        "univar_model = tf.keras.Sequential([\n",
        "  tf.keras.layers.SimpleRNN(batch_size, input_shape=[None, 1]),\n",
        "  tf.keras.layers.Dense(1) # no activation function by default\n",
        "])"
      ],
      "metadata": {
        "id": "tlIe2QfN6Pnm"
      },
      "execution_count": null,
      "outputs": []
    },
    {
      "cell_type": "code",
      "source": [
        "fit_and_evaluate(univar_model, train_ds, valid_ds)"
      ],
      "metadata": {
        "colab": {
          "base_uri": "https://localhost:8080/"
        },
        "id": "SU2oTUH_8fJJ",
        "outputId": "b913128d-2278-4a1c-cb3d-4232c5d7f379"
      },
      "execution_count": 205,
      "outputs": [
        {
          "output_type": "stream",
          "name": "stdout",
          "text": [
            "Epoch 1/5\n",
            "\u001b[1m5/5\u001b[0m \u001b[32m━━━━━━━━━━━━━━━━━━━━\u001b[0m\u001b[37m\u001b[0m \u001b[1m1s\u001b[0m 69ms/step - loss: 0.0016 - mae: 0.0418 - val_loss: 9.5208e-04 - val_mae: 0.0293\n",
            "Epoch 2/5\n",
            "\u001b[1m5/5\u001b[0m \u001b[32m━━━━━━━━━━━━━━━━━━━━\u001b[0m\u001b[37m\u001b[0m \u001b[1m0s\u001b[0m 12ms/step - loss: 0.0016 - mae: 0.0436 - val_loss: 0.0010 - val_mae: 0.0302\n",
            "Epoch 3/5\n",
            "\u001b[1m5/5\u001b[0m \u001b[32m━━━━━━━━━━━━━━━━━━━━\u001b[0m\u001b[37m\u001b[0m \u001b[1m0s\u001b[0m 13ms/step - loss: 0.0015 - mae: 0.0417 - val_loss: 8.3098e-04 - val_mae: 0.0307\n",
            "Epoch 4/5\n",
            "\u001b[1m5/5\u001b[0m \u001b[32m━━━━━━━━━━━━━━━━━━━━\u001b[0m\u001b[37m\u001b[0m \u001b[1m0s\u001b[0m 13ms/step - loss: 0.0015 - mae: 0.0404 - val_loss: 8.5524e-04 - val_mae: 0.0292\n",
            "Epoch 5/5\n",
            "\u001b[1m5/5\u001b[0m \u001b[32m━━━━━━━━━━━━━━━━━━━━\u001b[0m\u001b[37m\u001b[0m \u001b[1m0s\u001b[0m 14ms/step - loss: 0.0012 - mae: 0.0364 - val_loss: 9.4317e-04 - val_mae: 0.0294\n",
            "\u001b[1m1/1\u001b[0m \u001b[32m━━━━━━━━━━━━━━━━━━━━\u001b[0m\u001b[37m\u001b[0m \u001b[1m0s\u001b[0m 35ms/step - loss: 8.5524e-04 - mae: 0.0292\n"
          ]
        },
        {
          "output_type": "execute_result",
          "data": {
            "text/plain": [
              "29226.571321487427"
            ]
          },
          "metadata": {},
          "execution_count": 205
        }
      ]
    },
    {
      "cell_type": "markdown",
      "source": [
        "#### Deep RNN"
      ],
      "metadata": {
        "id": "RakbCpYk_Lzd"
      }
    },
    {
      "cell_type": "code",
      "source": [
        "deep_model = tf.keras.Sequential([\n",
        "    tf.keras.layers.SimpleRNN(32, return_sequences=True, input_shape=[None, 1]),\n",
        "    tf.keras.layers.SimpleRNN(32, return_sequences=True),\n",
        "    tf.keras.layers.SimpleRNN(32),\n",
        "    tf.keras.layers.Dense(1)\n",
        "])"
      ],
      "metadata": {
        "id": "NsDb-V4bARYq"
      },
      "execution_count": 206,
      "outputs": []
    },
    {
      "cell_type": "code",
      "source": [
        "fit_and_evaluate(deep_model, train_ds, valid_ds)"
      ],
      "metadata": {
        "colab": {
          "base_uri": "https://localhost:8080/"
        },
        "id": "0MJZGNpnAVBy",
        "outputId": "9886f2f6-bb94-4f49-bbe3-da278b267cd5"
      },
      "execution_count": 209,
      "outputs": [
        {
          "output_type": "stream",
          "name": "stdout",
          "text": [
            "Epoch 1/5\n",
            "\u001b[1m5/5\u001b[0m \u001b[32m━━━━━━━━━━━━━━━━━━━━\u001b[0m\u001b[37m\u001b[0m \u001b[1m4s\u001b[0m 123ms/step - loss: 0.0019 - mae: 0.0484 - val_loss: 0.0018 - val_mae: 0.0426\n",
            "Epoch 2/5\n",
            "\u001b[1m5/5\u001b[0m \u001b[32m━━━━━━━━━━━━━━━━━━━━\u001b[0m\u001b[37m\u001b[0m \u001b[1m0s\u001b[0m 17ms/step - loss: 0.0019 - mae: 0.0446 - val_loss: 0.0011 - val_mae: 0.0369\n",
            "Epoch 3/5\n",
            "\u001b[1m5/5\u001b[0m \u001b[32m━━━━━━━━━━━━━━━━━━━━\u001b[0m\u001b[37m\u001b[0m \u001b[1m0s\u001b[0m 17ms/step - loss: 0.0015 - mae: 0.0444 - val_loss: 0.0014 - val_mae: 0.0380\n",
            "Epoch 4/5\n",
            "\u001b[1m5/5\u001b[0m \u001b[32m━━━━━━━━━━━━━━━━━━━━\u001b[0m\u001b[37m\u001b[0m \u001b[1m0s\u001b[0m 16ms/step - loss: 0.0015 - mae: 0.0421 - val_loss: 0.0011 - val_mae: 0.0364\n",
            "Epoch 5/5\n",
            "\u001b[1m5/5\u001b[0m \u001b[32m━━━━━━━━━━━━━━━━━━━━\u001b[0m\u001b[37m\u001b[0m \u001b[1m0s\u001b[0m 20ms/step - loss: 0.0015 - mae: 0.0411 - val_loss: 0.0016 - val_mae: 0.0395\n",
            "\u001b[1m1/1\u001b[0m \u001b[32m━━━━━━━━━━━━━━━━━━━━\u001b[0m\u001b[37m\u001b[0m \u001b[1m0s\u001b[0m 36ms/step - loss: 0.0011 - mae: 0.0364\n"
          ]
        },
        {
          "output_type": "execute_result",
          "data": {
            "text/plain": [
              "36440.592259168625"
            ]
          },
          "metadata": {},
          "execution_count": 209
        }
      ]
    },
    {
      "cell_type": "markdown",
      "source": [
        "### Multivariate Series"
      ],
      "metadata": {
        "id": "YTswD-AFBSfS"
      }
    },
    {
      "cell_type": "code",
      "source": [
        "tf.random.set_seed(seed)  # extra code – ensures reproducibility\n",
        "train_mulvar_ds = tf.keras.utils.timeseries_dataset_from_array(\n",
        "    train,\n",
        "    targets=train['avg_invocations_rate'][sequence_lenght:],\n",
        "    sequence_length=sequence_lenght,\n",
        "    batch_size=batch_size,\n",
        "    shuffle=True,\n",
        "    seed=seed\n",
        ")\n",
        "valid_mulvar_ds = tf.keras.utils.timeseries_dataset_from_array(\n",
        "    valid,\n",
        "    targets=valid['avg_invocations_rate'][sequence_lenght:],\n",
        "    sequence_length=sequence_lenght,\n",
        "    batch_size=batch_size\n",
        ")"
      ],
      "metadata": {
        "id": "v4RSluUPDC15"
      },
      "execution_count": 210,
      "outputs": []
    },
    {
      "cell_type": "markdown",
      "source": [
        "#### Simple RNN"
      ],
      "metadata": {
        "id": "IZo1FbvkBU2G"
      }
    },
    {
      "cell_type": "markdown",
      "source": [
        "Notice that the only difference from the univar_model RNN we built earlier\n",
        "is the input shape: at each time step, the model now receives num_features inputs instead of one."
      ],
      "metadata": {
        "id": "FmerdRFpJeVq"
      }
    },
    {
      "cell_type": "code",
      "source": [
        "mulvar_model = tf.keras.Sequential([\n",
        "  tf.keras.layers.SimpleRNN(batch_size, input_shape=[None, num_features]),\n",
        "  tf.keras.layers.Dense(1)\n",
        "])"
      ],
      "metadata": {
        "id": "RU_TV9bVHAiI"
      },
      "execution_count": null,
      "outputs": []
    },
    {
      "cell_type": "code",
      "source": [
        "fit_and_evaluate(mulvar_model, train_mulvar_ds, valid_mulvar_ds)"
      ],
      "metadata": {
        "colab": {
          "base_uri": "https://localhost:8080/"
        },
        "id": "U4rXhWx8Hgiy",
        "outputId": "e718c773-70de-47e6-8224-a08220472ca2"
      },
      "execution_count": 212,
      "outputs": [
        {
          "output_type": "stream",
          "name": "stdout",
          "text": [
            "Epoch 1/5\n",
            "\u001b[1m5/5\u001b[0m \u001b[32m━━━━━━━━━━━━━━━━━━━━\u001b[0m\u001b[37m\u001b[0m \u001b[1m2s\u001b[0m 72ms/step - loss: 0.1669 - mae: 0.4695 - val_loss: 0.1049 - val_mae: 0.2892\n",
            "Epoch 2/5\n",
            "\u001b[1m5/5\u001b[0m \u001b[32m━━━━━━━━━━━━━━━━━━━━\u001b[0m\u001b[37m\u001b[0m \u001b[1m0s\u001b[0m 13ms/step - loss: 0.0830 - mae: 0.3184 - val_loss: 0.0537 - val_mae: 0.2186\n",
            "Epoch 3/5\n",
            "\u001b[1m5/5\u001b[0m \u001b[32m━━━━━━━━━━━━━━━━━━━━\u001b[0m\u001b[37m\u001b[0m \u001b[1m0s\u001b[0m 12ms/step - loss: 0.0494 - mae: 0.2369 - val_loss: 0.0250 - val_mae: 0.1519\n",
            "Epoch 4/5\n",
            "\u001b[1m5/5\u001b[0m \u001b[32m━━━━━━━━━━━━━━━━━━━━\u001b[0m\u001b[37m\u001b[0m \u001b[1m0s\u001b[0m 13ms/step - loss: 0.0312 - mae: 0.1838 - val_loss: 0.0131 - val_mae: 0.1228\n",
            "Epoch 5/5\n",
            "\u001b[1m5/5\u001b[0m \u001b[32m━━━━━━━━━━━━━━━━━━━━\u001b[0m\u001b[37m\u001b[0m \u001b[1m0s\u001b[0m 12ms/step - loss: 0.0227 - mae: 0.1576 - val_loss: 0.0072 - val_mae: 0.0935\n",
            "\u001b[1m1/1\u001b[0m \u001b[32m━━━━━━━━━━━━━━━━━━━━\u001b[0m\u001b[37m\u001b[0m \u001b[1m0s\u001b[0m 34ms/step - loss: 0.0072 - mae: 0.0935\n"
          ]
        },
        {
          "output_type": "execute_result",
          "data": {
            "text/plain": [
              "93548.11906814575"
            ]
          },
          "metadata": {},
          "execution_count": 212
        }
      ]
    },
    {
      "cell_type": "markdown",
      "source": [
        "## Forecasting Several Time Steps Ahead"
      ],
      "metadata": {
        "id": "Hxy8onZc5uK_"
      }
    },
    {
      "cell_type": "markdown",
      "source": [
        "### Univariate Series"
      ],
      "metadata": {
        "id": "7jPTjdrTLgK4"
      }
    },
    {
      "cell_type": "markdown",
      "source": [
        "Consideriamo sempre:\n",
        "* tr = train['avg_invocations_rate']\n",
        "* vl = valid['avg_invocations_rate']"
      ],
      "metadata": {
        "id": "HIK_nBjiL5Vh"
      }
    },
    {
      "cell_type": "markdown",
      "metadata": {
        "id": "DR-ramnx2Q4c"
      },
      "source": [
        "#### Simple RNN"
      ]
    },
    {
      "cell_type": "markdown",
      "source": [
        "The first option is to take the univar_model RNN we trained earlier for the\n",
        "rail time series, make it predict the next value, and add that value to the inputs,\n",
        "acting as if the predicted value had actually occurred; we would then use the\n",
        "model again to predict the following value, and so on.\n",
        "\n",
        "---\n",
        "If the model makes an error at one time step, then the forecasts for the\n",
        "following time steps are impacted as well: the errors tend to accumulate.\n",
        "So, it’s preferable to use this technique only for a small number of steps."
      ],
      "metadata": {
        "id": "jb3gWHWIMwbS"
      }
    },
    {
      "cell_type": "code",
      "source": [
        "X = vl.to_numpy()[np.newaxis, :sequence_lenght, np.newaxis]\n",
        "for step_ahead in range(prediction_lenght):\n",
        "  y_pred_one = univar_model.predict(X)\n",
        "  X = np.concatenate([X, y_pred_one.reshape(1, 1, 1)], axis=1)"
      ],
      "metadata": {
        "colab": {
          "base_uri": "https://localhost:8080/"
        },
        "id": "5rI_LzjKKGuC",
        "outputId": "ff84e48d-f030-4106-d7fc-a043ddf879a9"
      },
      "execution_count": 224,
      "outputs": [
        {
          "output_type": "stream",
          "name": "stdout",
          "text": [
            "\u001b[1m1/1\u001b[0m \u001b[32m━━━━━━━━━━━━━━━━━━━━\u001b[0m\u001b[37m\u001b[0m \u001b[1m0s\u001b[0m 20ms/step\n",
            "\u001b[1m1/1\u001b[0m \u001b[32m━━━━━━━━━━━━━━━━━━━━\u001b[0m\u001b[37m\u001b[0m \u001b[1m0s\u001b[0m 21ms/step\n",
            "\u001b[1m1/1\u001b[0m \u001b[32m━━━━━━━━━━━━━━━━━━━━\u001b[0m\u001b[37m\u001b[0m \u001b[1m0s\u001b[0m 22ms/step\n",
            "\u001b[1m1/1\u001b[0m \u001b[32m━━━━━━━━━━━━━━━━━━━━\u001b[0m\u001b[37m\u001b[0m \u001b[1m0s\u001b[0m 21ms/step\n",
            "\u001b[1m1/1\u001b[0m \u001b[32m━━━━━━━━━━━━━━━━━━━━\u001b[0m\u001b[37m\u001b[0m \u001b[1m0s\u001b[0m 27ms/step\n",
            "\u001b[1m1/1\u001b[0m \u001b[32m━━━━━━━━━━━━━━━━━━━━\u001b[0m\u001b[37m\u001b[0m \u001b[1m0s\u001b[0m 20ms/step\n",
            "\u001b[1m1/1\u001b[0m \u001b[32m━━━━━━━━━━━━━━━━━━━━\u001b[0m\u001b[37m\u001b[0m \u001b[1m0s\u001b[0m 20ms/step\n"
          ]
        }
      ]
    },
    {
      "cell_type": "code",
      "source": [
        "# The forecasts start on 2023-06-01, and they end\n",
        "# on 2019-06-14. That's 14 days in total.\n",
        "origin = \"2023-06-15\"\n",
        "start = \"2023-06-25\"\n",
        "end = \"2023-07-01\"\n",
        "\n",
        "Y_pred = pd.Series(X[0, -prediction_lenght:, 0], index=pd.date_range(start, end))\n",
        "\n",
        "fig, ax = plt.subplots(figsize=(20, 7))\n",
        "(vl * 1e6)[origin:end].plot(label=\"True\", marker=\".\", ax=ax)\n",
        "(Y_pred * 1e6).plot(label=\"Predictions\", grid=True, marker=\"x\", color=\"r\", ax=ax)\n",
        "ax.vlines(start, 0, 1e6, color=\"k\", linestyle=\"--\", label=\"Today\")\n",
        "#ax.set_ylim([200_000, 800_000])\n",
        "plt.legend(loc=\"center left\")\n",
        "#save_fig(\"forecast_ahead_plot\")\n",
        "plt.show()"
      ],
      "metadata": {
        "colab": {
          "base_uri": "https://localhost:8080/",
          "height": 606
        },
        "id": "zk7fOHGqNx_f",
        "outputId": "361d3a4c-c9ea-4956-ffb7-2a597efa8117"
      },
      "execution_count": 225,
      "outputs": [
        {
          "output_type": "display_data",
          "data": {
            "text/plain": [
              "<Figure size 2000x700 with 1 Axes>"
            ],
            "image/png": "[encoded data removed]"
          },
          "metadata": {}
        }
      ]
    },
    {
      "cell_type": "markdown",
      "source": [
        "### Multivariate Series"
      ],
      "metadata": {
        "id": "FKqaU8oiKF36"
      }
    },
    {
      "cell_type": "code",
      "source": [
        "def split_inputs_and_targets(mulvar_series, ahead=prediction_lenght, target_col=1):\n",
        "  return mulvar_series[:, :-ahead], mulvar_series[:, -ahead:, target_col]\n",
        "\n",
        "ahead_train_ds = tf.keras.utils.timeseries_dataset_from_array(\n",
        "    train,\n",
        "    targets=None,\n",
        "    sequence_length=sequence_lenght + prediction_lenght,\n",
        "    batch_size=batch_size,\n",
        "    shuffle=True,\n",
        "    seed=seed\n",
        ").map(split_inputs_and_targets)\n",
        "\n",
        "ahead_valid_ds = tf.keras.utils.timeseries_dataset_from_array(\n",
        "    valid,\n",
        "    targets=None,\n",
        "    sequence_length=sequence_lenght + prediction_lenght,\n",
        "    batch_size=batch_size\n",
        ").map(split_inputs_and_targets)"
      ],
      "metadata": {
        "id": "t7l9HLdiHb4c"
      },
      "execution_count": 218,
      "outputs": []
    },
    {
      "cell_type": "code",
      "source": [
        "print(len(ahead_train_ds))  # Check the size of your training dataset\n",
        "print(len(ahead_valid_ds))  # Check the size of your validation dataset"
      ],
      "metadata": {
        "colab": {
          "base_uri": "https://localhost:8080/"
        },
        "id": "9IhfSG-g9q67",
        "outputId": "22dd07ce-18e9-4316-efb1-c42839323229"
      },
      "execution_count": 217,
      "outputs": [
        {
          "output_type": "stream",
          "name": "stdout",
          "text": [
            "5\n",
            "1\n"
          ]
        }
      ]
    },
    {
      "cell_type": "markdown",
      "source": [
        "#### Sequence-to-Vector RNN"
      ],
      "metadata": {
        "id": "9vhzIzOyKF9R"
      }
    },
    {
      "cell_type": "markdown",
      "source": [
        "Train an RNN to predict the next 14 values in one shot."
      ],
      "metadata": {
        "id": "y6G0pnDOKF6w"
      }
    },
    {
      "cell_type": "code",
      "source": [
        "ahead_model = tf.keras.Sequential([\n",
        "  tf.keras.layers.SimpleRNN(batch_size, input_shape=[None, num_features]),\n",
        "  tf.keras.layers.Dense(prediction_lenght)\n",
        "])"
      ],
      "metadata": {
        "colab": {
          "base_uri": "https://localhost:8080/"
        },
        "id": "SSMqmUNDEdrl",
        "outputId": "a02f64e4-1587-4197-e93f-da14c6698443"
      },
      "execution_count": 219,
      "outputs": [
        {
          "output_type": "stream",
          "name": "stderr",
          "text": [
            "/usr/local/lib/python3.10/dist-packages/keras/src/layers/rnn/rnn.py:204: UserWarning: Do not pass an `input_shape`/`input_dim` argument to a layer. When using Sequential models, prefer using an `Input(shape)` object as the first layer in the model instead.\n",
            "  super().__init__(**kwargs)\n"
          ]
        }
      ]
    },
    {
      "cell_type": "code",
      "source": [
        "fit_and_evaluate(ahead_model, ahead_train_ds, ahead_valid_ds)"
      ],
      "metadata": {
        "colab": {
          "base_uri": "https://localhost:8080/"
        },
        "id": "8BkUZtL4FXSC",
        "outputId": "b02595d7-3a32-4430-9a94-744637391800"
      },
      "execution_count": 220,
      "outputs": [
        {
          "output_type": "stream",
          "name": "stdout",
          "text": [
            "Epoch 1/5\n",
            "\u001b[1m5/5\u001b[0m \u001b[32m━━━━━━━━━━━━━━━━━━━━\u001b[0m\u001b[37m\u001b[0m \u001b[1m2s\u001b[0m 99ms/step - loss: 0.5009 - mae: 0.8787 - val_loss: 0.2512 - val_mae: 0.6422\n",
            "Epoch 2/5\n",
            "\u001b[1m5/5\u001b[0m \u001b[32m━━━━━━━━━━━━━━━━━━━━\u001b[0m\u001b[37m\u001b[0m \u001b[1m0s\u001b[0m 20ms/step - loss: 0.4648 - mae: 0.8317 - val_loss: 0.1765 - val_mae: 0.5355\n",
            "Epoch 3/5\n",
            "\u001b[1m5/5\u001b[0m \u001b[32m━━━━━━━━━━━━━━━━━━━━\u001b[0m\u001b[37m\u001b[0m \u001b[1m0s\u001b[0m 22ms/step - loss: 0.4415 - mae: 0.8006 - val_loss: 0.1383 - val_mae: 0.4632\n",
            "Epoch 4/5\n",
            "\u001b[1m5/5\u001b[0m \u001b[32m━━━━━━━━━━━━━━━━━━━━\u001b[0m\u001b[37m\u001b[0m \u001b[1m0s\u001b[0m 18ms/step - loss: 0.4145 - mae: 0.7634 - val_loss: 0.1251 - val_mae: 0.4408\n",
            "Epoch 5/5\n",
            "\u001b[1m5/5\u001b[0m \u001b[32m━━━━━━━━━━━━━━━━━━━━\u001b[0m\u001b[37m\u001b[0m \u001b[1m0s\u001b[0m 22ms/step - loss: 0.3997 - mae: 0.7399 - val_loss: 0.1230 - val_mae: 0.4458\n",
            "\u001b[1m1/1\u001b[0m \u001b[32m━━━━━━━━━━━━━━━━━━━━\u001b[0m\u001b[37m\u001b[0m \u001b[1m0s\u001b[0m 43ms/step - loss: 0.1251 - mae: 0.4408\n"
          ]
        },
        {
          "output_type": "execute_result",
          "data": {
            "text/plain": [
              "440836.5488052368"
            ]
          },
          "metadata": {},
          "execution_count": 220
        }
      ]
    },
    {
      "cell_type": "code",
      "source": [
        "X = valid.to_numpy()[np.newaxis, :sequence_lenght]\n",
        "\n",
        "Y_pred = ahead_model.predict(X) # shape [1, 14]"
      ],
      "metadata": {
        "colab": {
          "base_uri": "https://localhost:8080/"
        },
        "id": "565aoeDh-HCA",
        "outputId": "5e80e425-7257-4368-87a7-0ce75dd2fb9f"
      },
      "execution_count": 227,
      "outputs": [
        {
          "output_type": "stream",
          "name": "stdout",
          "text": [
            "\u001b[1m1/1\u001b[0m \u001b[32m━━━━━━━━━━━━━━━━━━━━\u001b[0m\u001b[37m\u001b[0m \u001b[1m0s\u001b[0m 21ms/step\n"
          ]
        }
      ]
    },
    {
      "cell_type": "code",
      "source": [
        "# The forecasts start on 2023-06-01, and they end\n",
        "# on 2019-06-14. That's 14 days in total.\n",
        "origin = \"2023-06-15\"\n",
        "start = \"2023-06-25\"\n",
        "end = \"2023-07-01\"\n",
        "\n",
        "Y_pred = pd.Series(X[0, -prediction_lenght:, 0], index=pd.date_range(start, end))\n",
        "\n",
        "fig, ax = plt.subplots(figsize=(20, 7))\n",
        "(vl * 1e6)[origin:end].plot(label=\"True\", marker=\".\", ax=ax)\n",
        "(Y_pred * 1e6).plot(label=\"Predictions\", grid=True, marker=\"x\", color=\"r\", ax=ax)\n",
        "ax.vlines(start, -1e6, 1e6, color=\"k\", linestyle=\"--\", label=\"Today\")\n",
        "#ax.set_ylim([200_000, 800_000])\n",
        "plt.legend(loc=\"center left\")\n",
        "#save_fig(\"forecast_ahead_plot\")\n",
        "plt.show()"
      ],
      "metadata": {
        "colab": {
          "base_uri": "https://localhost:8080/",
          "height": 598
        },
        "id": "cGY57z5qEV72",
        "outputId": "f00d28d1-202c-4dca-8c92-c6d2610f146f"
      },
      "execution_count": 229,
      "outputs": [
        {
          "output_type": "display_data",
          "data": {
            "text/plain": [
              "<Figure size 2000x700 with 1 Axes>"
            ],
            "image/png": "[encoded data removed]"
          },
          "metadata": {}
        }
      ]
    },
    {
      "cell_type": "markdown",
      "source": [
        "#### Sequence-to-Sequence RNN"
      ],
      "metadata": {
        "id": "m7FIOTUWKF1e"
      }
    },
    {
      "cell_type": "code",
      "source": [
        "def to_windows(dataset, length):\n",
        "  dataset = dataset.window(length, shift=1, drop_remainder=True)\n",
        "  return dataset.flat_map(lambda window_ds: window_ds.batch(length))\n",
        "\n",
        "def to_seq2seq_dataset(series, seq_length=56, ahead=14, target_col=1, batch_size=32, shuffle=False, seed=None):\n",
        "  ds = to_windows(tf.data.Dataset.from_tensor_slices(series), ahead + 1)\n",
        "  ds = to_windows(ds, seq_length).map(lambda S: (S[:, 0], S[:, 1:, 1]))\n",
        "  if shuffle:\n",
        "    ds = ds.shuffle(8 * batch_size, seed=seed)\n",
        "  return ds.batch(batch_size)"
      ],
      "metadata": {
        "id": "FiEKnxz9IkAv"
      },
      "execution_count": 234,
      "outputs": []
    },
    {
      "cell_type": "code",
      "source": [
        "seq2seq_train = to_seq2seq_dataset(train, seq_length=sequence_lenght, ahead=prediction_lenght, shuffle=True, seed=seed)\n",
        "seq2seq_valid = to_seq2seq_dataset(valid, seq_length=sequence_lenght, ahead=prediction_lenght)"
      ],
      "metadata": {
        "id": "YFBqoQOLL4Kg"
      },
      "execution_count": 235,
      "outputs": []
    },
    {
      "cell_type": "markdown",
      "source": [
        "Instead of training the model to forecast the next 14 values only at the very last time step, we can train it to forecast the next 14 values at each and every time step.\n",
        "In other words, we can turn this sequence-to-vector RNN into a sequence-to-sequence RNN.\n",
        "\n",
        "* The targets are sequences of consecutive windows, shifted by one time step at each time step;\n",
        "* The target is not a vector anymore, but a sequence of the same length as the inputs, containing a (prediction_lenght)-dimensional vector at each step."
      ],
      "metadata": {
        "id": "haU9lrlfKFyp"
      }
    },
    {
      "cell_type": "code",
      "source": [
        "tf.random.set_seed(42)  # extra code – ensures reproducibility\n",
        "seq2seq_model = tf.keras.Sequential([\n",
        "    tf.keras.layers.SimpleRNN(batch_size, return_sequences=True, input_shape=[None, num_features]),\n",
        "    tf.keras.layers.Dense(prediction_lenght)\n",
        "    # equivalent: tf.keras.layers.TimeDistributed(tf.keras.layers.Dense(14))\n",
        "    # also equivalent: tf.keras.layers.Conv1D(14, kernel_size=1)\n",
        "])"
      ],
      "metadata": {
        "colab": {
          "base_uri": "https://localhost:8080/"
        },
        "id": "b8_HA-8bLs8o",
        "outputId": "2f415856-e388-4549-ef85-e38d4ef5e08f"
      },
      "execution_count": 236,
      "outputs": [
        {
          "output_type": "stream",
          "name": "stderr",
          "text": [
            "/usr/local/lib/python3.10/dist-packages/keras/src/layers/rnn/rnn.py:204: UserWarning: Do not pass an `input_shape`/`input_dim` argument to a layer. When using Sequential models, prefer using an `Input(shape)` object as the first layer in the model instead.\n",
            "  super().__init__(**kwargs)\n"
          ]
        }
      ]
    },
    {
      "cell_type": "code",
      "source": [
        "fit_and_evaluate(seq2seq_model, seq2seq_train, seq2seq_valid)"
      ],
      "metadata": {
        "colab": {
          "base_uri": "https://localhost:8080/"
        },
        "id": "iCzpbIHcLw_Y",
        "outputId": "6d6e18f5-6057-4057-9bd7-ce99e41204fd"
      },
      "execution_count": 237,
      "outputs": [
        {
          "output_type": "stream",
          "name": "stdout",
          "text": [
            "Epoch 1/5\n",
            "      1/Unknown \u001b[1m1s\u001b[0m 1s/step - loss: 0.5281 - mae: 0.9205"
          ]
        },
        {
          "output_type": "stream",
          "name": "stderr",
          "text": [
            "/usr/lib/python3.10/contextlib.py:153: UserWarning: Your input ran out of data; interrupting training. Make sure that your dataset or generator can generate at least `steps_per_epoch * epochs` batches. You may need to use the `.repeat()` function when building your dataset.\n",
            "  self.gen.throw(typ, value, traceback)\n"
          ]
        },
        {
          "output_type": "stream",
          "name": "stdout",
          "text": [
            "\b\b\b\b\b\b\b\b\b\b\b\b\b\b\b\b\b\b\b\b\b\b\b\b\b\b\b\b\b\b\b\b\b\b\b\b\b\b\b\b\b\b\b\b\b\b\b\b\b\b\b\b\b\b\b\r\u001b[1m5/5\u001b[0m \u001b[32m━━━━━━━━━━━━━━━━━━━━\u001b[0m\u001b[37m\u001b[0m \u001b[1m2s\u001b[0m 78ms/step - loss: 0.4940 - mae: 0.8747 - val_loss: 0.3013 - val_mae: 0.6853\n",
            "Epoch 2/5\n",
            "\u001b[1m5/5\u001b[0m \u001b[32m━━━━━━━━━━━━━━━━━━━━\u001b[0m\u001b[37m\u001b[0m \u001b[1m0s\u001b[0m 14ms/step - loss: 0.4656 - mae: 0.8399 - val_loss: 0.2674 - val_mae: 0.6455\n",
            "Epoch 3/5\n",
            "\u001b[1m5/5\u001b[0m \u001b[32m━━━━━━━━━━━━━━━━━━━━\u001b[0m\u001b[37m\u001b[0m \u001b[1m0s\u001b[0m 14ms/step - loss: 0.4516 - mae: 0.8191 - val_loss: 0.2336 - val_mae: 0.6006\n",
            "Epoch 4/5\n",
            "\u001b[1m5/5\u001b[0m \u001b[32m━━━━━━━━━━━━━━━━━━━━\u001b[0m\u001b[37m\u001b[0m \u001b[1m0s\u001b[0m 28ms/step - loss: 0.4249 - mae: 0.7857 - val_loss: 0.2075 - val_mae: 0.5617\n",
            "Epoch 5/5\n",
            "\u001b[1m5/5\u001b[0m \u001b[32m━━━━━━━━━━━━━━━━━━━━\u001b[0m\u001b[37m\u001b[0m \u001b[1m0s\u001b[0m 21ms/step - loss: 0.4228 - mae: 0.7807 - val_loss: 0.1865 - val_mae: 0.5288\n",
            "\u001b[1m1/1\u001b[0m \u001b[32m━━━━━━━━━━━━━━━━━━━━\u001b[0m\u001b[37m\u001b[0m \u001b[1m0s\u001b[0m 60ms/step - loss: 0.1865 - mae: 0.5288\n"
          ]
        },
        {
          "output_type": "execute_result",
          "data": {
            "text/plain": [
              "528830.9454917908"
            ]
          },
          "metadata": {},
          "execution_count": 237
        }
      ]
    },
    {
      "cell_type": "markdown",
      "source": [],
      "metadata": {
        "id": "Ct1Y9siYKFwC"
      }
    },
    {
      "cell_type": "markdown",
      "source": [],
      "metadata": {
        "id": "Kzy1afbLKFtY"
      }
    },
    {
      "cell_type": "markdown",
      "source": [],
      "metadata": {
        "id": "qsV5LXbSKFnL"
      }
    },
    {
      "cell_type": "markdown",
      "source": [],
      "metadata": {
        "id": "1nJCJqD-KFkh"
      }
    },
    {
      "cell_type": "markdown",
      "source": [],
      "metadata": {
        "id": "86_MG1iKKFhK"
      }
    }
  ],
  "metadata": {
    "colab": {
      "collapsed_sections": [
        "L5az4lSjaAcY",
        "7jPTjdrTLgK4",
        "9vhzIzOyKF9R"
      ],
      "provenance": [],
      "toc_visible": true,
      "authorship_tag": "ABX9TyOCLR8UI2TkS3FariW5iHe4",
      "include_colab_link": true
    },
    "kernelspec": {
      "display_name": "Python 3",
      "name": "python3"
    },
    "language_info": {
      "name": "python"
    }
  },
  "nbformat": 4,
  "nbformat_minor": 0
}