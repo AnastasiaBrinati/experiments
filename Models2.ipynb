{
  "cells": [
    {
      "cell_type": "markdown",
      "metadata": {
        "id": "view-in-github",
        "colab_type": "text"
      },
      "source": [
        "<a href=\"https://colab.research.google.com/github/AnastasiaBrinati/experiments/blob/main/Models2.ipynb\" target=\"_parent\"><img src=\"https://colab.research.google.com/assets/colab-badge.svg\" alt=\"Open In Colab\"/></a>"
      ]
    },
    {
      "cell_type": "markdown",
      "metadata": {
        "id": "cRa-Ex5SXAWo"
      },
      "source": [
        " **PROVA MODELLI CENTRALIZZATI PREDIZIONE INVOCATIONS' RATE**\n",
        "\n"
      ]
    },
    {
      "cell_type": "markdown",
      "metadata": {
        "id": "L5az4lSjaAcY"
      },
      "source": [
        "#### imports"
      ]
    },
    {
      "cell_type": "code",
      "execution_count": null,
      "metadata": {
        "id": "jI6RD5ncW6ul"
      },
      "outputs": [],
      "source": [
        "import matplotlib.pyplot as plt\n",
        "import numpy as np\n",
        "import pandas as pd\n",
        "import seaborn as sns\n",
        "\n",
        "# Make NumPy printouts easier to read.\n",
        "np.set_printoptions(precision=3, suppress=True)\n",
        "\n",
        "import tensorflow as tf\n",
        "\n",
        "from tensorflow import keras\n",
        "from keras import layers\n",
        "from tensorflow.keras.callbacks import EarlyStopping\n",
        "\n",
        "!pip install -q -U keras-tuner\n",
        "import keras_tuner as kt\n",
        "\n",
        "# Use seaborn for pairplot.\n",
        "!pip install datasets\n",
        "\n",
        "from datasets import load_dataset"
      ]
    },
    {
      "cell_type": "markdown",
      "source": [
        "# Data"
      ],
      "metadata": {
        "id": "nKCuACLTxKo3"
      }
    },
    {
      "cell_type": "code",
      "source": [
        "dataset_60 = load_dataset(\"anastasiafrosted/globus_60\", download_mode=\"force_redownload\")\n",
        "dataset_300 = load_dataset(\"anastasiafrosted/globus_300\", download_mode=\"force_redownload\")\n",
        "dataset_3600 = load_dataset(\"anastasiafrosted/globus_3600\", download_mode=\"force_redownload\")\n",
        "dataset_86400 = load_dataset(\"anastasiafrosted/globus_86400\", download_mode=\"force_redownload\")\n",
        "\n",
        "df_60 = pd.DataFrame(dataset_60['train'])\n",
        "df_300 = pd.DataFrame(dataset_300['train'])\n",
        "df_3600 = pd.DataFrame(dataset_3600['train'])\n",
        "df_86400 = pd.DataFrame(dataset_86400['train'])\n",
        "\n",
        "# Ensure the `timestamp` column is in datetime format\n",
        "df_60['timestamp'] = pd.to_datetime(df_60['timestamp'])\n",
        "df_300['timestamp'] = pd.to_datetime(df_300['timestamp'])\n",
        "df_3600['timestamp'] = pd.to_datetime(df_3600['timestamp'])\n",
        "df_86400['timestamp'] = pd.to_datetime(df_86400['timestamp'])"
      ],
      "metadata": {
        "id": "m9vg7UxM1F0X"
      },
      "execution_count": null,
      "outputs": []
    },
    {
      "cell_type": "code",
      "source": [
        "data = df_86400\n",
        "data = data.set_index(\"timestamp\")\n",
        "data.head()"
      ],
      "metadata": {
        "id": "zi9li5lG6EwU"
      },
      "execution_count": null,
      "outputs": []
    },
    {
      "cell_type": "code",
      "source": [
        "train = data[\"2022-12-20\":\"2023-06-01\"]\n",
        "valid = data[\"2023-06-01\":\"2023-07-01\"]\n",
        "test = data[\"2023-07-01\":]"
      ],
      "metadata": {
        "id": "Sk6mlQOLnQ-X"
      },
      "execution_count": 4,
      "outputs": []
    },
    {
      "cell_type": "code",
      "source": [
        "batch_size = 32\n",
        "num_features = 12\n",
        "sequence_lenght = 14\n",
        "prediction_lenght = 14\n",
        "seed = 42"
      ],
      "metadata": {
        "id": "y7elcPdEvBJi"
      },
      "execution_count": 5,
      "outputs": []
    },
    {
      "cell_type": "markdown",
      "source": [
        "# Models"
      ],
      "metadata": {
        "id": "YtK6Gsf9xTaH"
      }
    },
    {
      "cell_type": "markdown",
      "source": [
        "## Forecasting one-step-ahead"
      ],
      "metadata": {
        "id": "1PnhFaYH80cD"
      }
    },
    {
      "cell_type": "code",
      "source": [
        "def fit_and_evaluate(model, train_set, valid_set, learning_rate=0.01, epochs=5):\n",
        "    early_stopping_cb = tf.keras.callbacks.EarlyStopping(monitor=\"val_mae\", patience=50, restore_best_weights=True)\n",
        "    opt = tf.keras.optimizers.SGD(learning_rate=learning_rate, momentum=0.9)\n",
        "\n",
        "    model.compile(loss=tf.keras.losses.Huber(), optimizer=opt, metrics=[\"mae\"])\n",
        "    history = model.fit(train_set, validation_data=valid_set, epochs=epochs, callbacks=[early_stopping_cb])\n",
        "    valid_loss, valid_mae = model.evaluate(valid_set)\n",
        "    return valid_mae * 1e6"
      ],
      "metadata": {
        "id": "neRK8rLkAbsP"
      },
      "execution_count": 6,
      "outputs": []
    },
    {
      "cell_type": "markdown",
      "source": [
        "### Univariate series"
      ],
      "metadata": {
        "id": "bAKasPO9BNJM"
      }
    },
    {
      "cell_type": "code",
      "source": [
        "tr = train['avg_invocations_rate']\n",
        "vl = valid['avg_invocations_rate']"
      ],
      "metadata": {
        "id": "JvcCYey10uUj"
      },
      "execution_count": 7,
      "outputs": []
    },
    {
      "cell_type": "code",
      "source": [
        "tf.random.set_seed(seed)  # extra code – ensures reproducibility\n",
        "train_ds = tf.keras.utils.timeseries_dataset_from_array(\n",
        "    tr.to_numpy(),\n",
        "    targets=tr[sequence_lenght:],\n",
        "    sequence_length=sequence_lenght,\n",
        "    batch_size=batch_size,\n",
        "    shuffle=True,\n",
        "    seed=seed\n",
        ")\n",
        "valid_ds = tf.keras.utils.timeseries_dataset_from_array(\n",
        "    vl.to_numpy(),\n",
        "    targets=vl[sequence_lenght:],\n",
        "    sequence_length=sequence_lenght,\n",
        "    batch_size=batch_size\n",
        ")"
      ],
      "metadata": {
        "id": "CFLeei70zjZF"
      },
      "execution_count": 8,
      "outputs": []
    },
    {
      "cell_type": "markdown",
      "source": [
        "#### Linear Model"
      ],
      "metadata": {
        "id": "_Lg2XCln7_R-"
      }
    },
    {
      "cell_type": "code",
      "source": [
        "model = tf.keras.Sequential([\n",
        "    tf.keras.layers.Dense(1, input_shape=[sequence_lenght])\n",
        "])"
      ],
      "metadata": {
        "id": "4yD45c6C0F-I"
      },
      "execution_count": null,
      "outputs": []
    },
    {
      "cell_type": "code",
      "source": [
        "fit_and_evaluate(model, train_ds, valid_ds)"
      ],
      "metadata": {
        "colab": {
          "base_uri": "https://localhost:8080/"
        },
        "id": "FIzGSeNZ8aY0",
        "outputId": "e86c6a83-412a-463c-bf57-482578a1e90f"
      },
      "execution_count": 10,
      "outputs": [
        {
          "output_type": "stream",
          "name": "stdout",
          "text": [
            "Epoch 1/5\n",
            "\u001b[1m5/5\u001b[0m \u001b[32m━━━━━━━━━━━━━━━━━━━━\u001b[0m\u001b[37m\u001b[0m \u001b[1m1s\u001b[0m 102ms/step - loss: 0.0080 - mae: 0.1027 - val_loss: 0.0045 - val_mae: 0.0755\n",
            "Epoch 2/5\n",
            "\u001b[1m5/5\u001b[0m \u001b[32m━━━━━━━━━━━━━━━━━━━━\u001b[0m\u001b[37m\u001b[0m \u001b[1m0s\u001b[0m 32ms/step - loss: 0.0077 - mae: 0.0996 - val_loss: 0.0033 - val_mae: 0.0649\n",
            "Epoch 3/5\n",
            "\u001b[1m5/5\u001b[0m \u001b[32m━━━━━━━━━━━━━━━━━━━━\u001b[0m\u001b[37m\u001b[0m \u001b[1m0s\u001b[0m 44ms/step - loss: 0.0064 - mae: 0.0881 - val_loss: 0.0025 - val_mae: 0.0579\n",
            "Epoch 4/5\n",
            "\u001b[1m5/5\u001b[0m \u001b[32m━━━━━━━━━━━━━━━━━━━━\u001b[0m\u001b[37m\u001b[0m \u001b[1m1s\u001b[0m 26ms/step - loss: 0.0053 - mae: 0.0832 - val_loss: 0.0021 - val_mae: 0.0548\n",
            "Epoch 5/5\n",
            "\u001b[1m5/5\u001b[0m \u001b[32m━━━━━━━━━━━━━━━━━━━━\u001b[0m\u001b[37m\u001b[0m \u001b[1m0s\u001b[0m 37ms/step - loss: 0.0049 - mae: 0.0784 - val_loss: 0.0021 - val_mae: 0.0539\n",
            "\u001b[1m1/1\u001b[0m \u001b[32m━━━━━━━━━━━━━━━━━━━━\u001b[0m\u001b[37m\u001b[0m \u001b[1m0s\u001b[0m 61ms/step - loss: 0.0021 - mae: 0.0539\n"
          ]
        },
        {
          "output_type": "execute_result",
          "data": {
            "text/plain": [
              "53942.90387630463"
            ]
          },
          "metadata": {},
          "execution_count": 10
        }
      ]
    },
    {
      "cell_type": "markdown",
      "source": [
        "#### Simple RNN"
      ],
      "metadata": {
        "id": "brUbxzjK77Rr"
      }
    },
    {
      "cell_type": "markdown",
      "source": [
        "Recall that the input_shape argument ignores\n",
        "the first dimension (i.e., the batch size), and since recurrent layers can accept\n",
        "input sequences of any length, we can set the second dimension to None, which\n",
        "means “any size”. Lastly, since we’re dealing with a univariate time series, we\n",
        "need the last dimension’s size to be 1. This is why we specified the input shape\n",
        "* [None, 1] : it means “univariate sequences of any length”.\n"
      ],
      "metadata": {
        "id": "z0poyRAc6dBG"
      }
    },
    {
      "cell_type": "code",
      "source": [
        "univar_model = tf.keras.Sequential([\n",
        "  tf.keras.layers.SimpleRNN(batch_size, input_shape=[None, 1]),\n",
        "  tf.keras.layers.Dense(1) # no activation function by default\n",
        "])"
      ],
      "metadata": {
        "id": "tlIe2QfN6Pnm"
      },
      "execution_count": null,
      "outputs": []
    },
    {
      "cell_type": "code",
      "source": [
        "fit_and_evaluate(univar_model, train_ds, valid_ds)"
      ],
      "metadata": {
        "colab": {
          "base_uri": "https://localhost:8080/"
        },
        "id": "SU2oTUH_8fJJ",
        "outputId": "3aa916e3-2f87-4a8b-cc2d-96144920e8ab"
      },
      "execution_count": 12,
      "outputs": [
        {
          "output_type": "stream",
          "name": "stdout",
          "text": [
            "Epoch 1/5\n",
            "\u001b[1m5/5\u001b[0m \u001b[32m━━━━━━━━━━━━━━━━━━━━\u001b[0m\u001b[37m\u001b[0m \u001b[1m7s\u001b[0m 343ms/step - loss: 0.0031 - mae: 0.0655 - val_loss: 0.0016 - val_mae: 0.0405\n",
            "Epoch 2/5\n",
            "\u001b[1m5/5\u001b[0m \u001b[32m━━━━━━━━━━━━━━━━━━━━\u001b[0m\u001b[37m\u001b[0m \u001b[1m0s\u001b[0m 41ms/step - loss: 0.0026 - mae: 0.0598 - val_loss: 0.0022 - val_mae: 0.0580\n",
            "Epoch 3/5\n",
            "\u001b[1m5/5\u001b[0m \u001b[32m━━━━━━━━━━━━━━━━━━━━\u001b[0m\u001b[37m\u001b[0m \u001b[1m1s\u001b[0m 67ms/step - loss: 0.0026 - mae: 0.0589 - val_loss: 0.0014 - val_mae: 0.0409\n",
            "Epoch 4/5\n",
            "\u001b[1m5/5\u001b[0m \u001b[32m━━━━━━━━━━━━━━━━━━━━\u001b[0m\u001b[37m\u001b[0m \u001b[1m0s\u001b[0m 26ms/step - loss: 0.0020 - mae: 0.0512 - val_loss: 0.0015 - val_mae: 0.0493\n",
            "Epoch 5/5\n",
            "\u001b[1m5/5\u001b[0m \u001b[32m━━━━━━━━━━━━━━━━━━━━\u001b[0m\u001b[37m\u001b[0m \u001b[1m0s\u001b[0m 29ms/step - loss: 0.0020 - mae: 0.0518 - val_loss: 0.0013 - val_mae: 0.0406\n",
            "\u001b[1m1/1\u001b[0m \u001b[32m━━━━━━━━━━━━━━━━━━━━\u001b[0m\u001b[37m\u001b[0m \u001b[1m0s\u001b[0m 154ms/step - loss: 0.0016 - mae: 0.0405\n"
          ]
        },
        {
          "output_type": "execute_result",
          "data": {
            "text/plain": [
              "40475.80808401108"
            ]
          },
          "metadata": {},
          "execution_count": 12
        }
      ]
    },
    {
      "cell_type": "markdown",
      "source": [
        "#### Deep RNN"
      ],
      "metadata": {
        "id": "RakbCpYk_Lzd"
      }
    },
    {
      "cell_type": "code",
      "source": [
        "deep_model = tf.keras.Sequential([\n",
        "    tf.keras.layers.SimpleRNN(32, return_sequences=True, input_shape=[None, 1]),\n",
        "    tf.keras.layers.SimpleRNN(32, return_sequences=True),\n",
        "    tf.keras.layers.SimpleRNN(32),\n",
        "    tf.keras.layers.Dense(1)\n",
        "])"
      ],
      "metadata": {
        "id": "NsDb-V4bARYq"
      },
      "execution_count": 13,
      "outputs": []
    },
    {
      "cell_type": "code",
      "source": [
        "fit_and_evaluate(deep_model, train_ds, valid_ds)"
      ],
      "metadata": {
        "colab": {
          "base_uri": "https://localhost:8080/"
        },
        "id": "0MJZGNpnAVBy",
        "outputId": "21dd7825-f8f4-4f3d-fa47-617335d305d2"
      },
      "execution_count": 14,
      "outputs": [
        {
          "output_type": "stream",
          "name": "stdout",
          "text": [
            "Epoch 1/5\n",
            "\u001b[1m5/5\u001b[0m \u001b[32m━━━━━━━━━━━━━━━━━━━━\u001b[0m\u001b[37m\u001b[0m \u001b[1m8s\u001b[0m 147ms/step - loss: 0.3311 - mae: 0.6854 - val_loss: 0.0011 - val_mae: 0.0345\n",
            "Epoch 2/5\n",
            "\u001b[1m5/5\u001b[0m \u001b[32m━━━━━━━━━━━━━━━━━━━━\u001b[0m\u001b[37m\u001b[0m \u001b[1m0s\u001b[0m 43ms/step - loss: 0.0392 - mae: 0.2206 - val_loss: 0.0570 - val_mae: 0.3354\n",
            "Epoch 3/5\n",
            "\u001b[1m5/5\u001b[0m \u001b[32m━━━━━━━━━━━━━━━━━━━━\u001b[0m\u001b[37m\u001b[0m \u001b[1m0s\u001b[0m 37ms/step - loss: 0.0455 - mae: 0.2807 - val_loss: 0.0405 - val_mae: 0.2824\n",
            "Epoch 4/5\n",
            "\u001b[1m5/5\u001b[0m \u001b[32m━━━━━━━━━━━━━━━━━━━━\u001b[0m\u001b[37m\u001b[0m \u001b[1m0s\u001b[0m 43ms/step - loss: 0.0228 - mae: 0.1917 - val_loss: 0.0163 - val_mae: 0.1768\n",
            "Epoch 5/5\n",
            "\u001b[1m5/5\u001b[0m \u001b[32m━━━━━━━━━━━━━━━━━━━━\u001b[0m\u001b[37m\u001b[0m \u001b[1m0s\u001b[0m 38ms/step - loss: 0.0116 - mae: 0.1354 - val_loss: 0.0120 - val_mae: 0.1506\n",
            "\u001b[1m1/1\u001b[0m \u001b[32m━━━━━━━━━━━━━━━━━━━━\u001b[0m\u001b[37m\u001b[0m \u001b[1m0s\u001b[0m 68ms/step - loss: 0.0011 - mae: 0.0345\n"
          ]
        },
        {
          "output_type": "execute_result",
          "data": {
            "text/plain": [
              "34499.555826187134"
            ]
          },
          "metadata": {},
          "execution_count": 14
        }
      ]
    },
    {
      "cell_type": "markdown",
      "source": [
        "### Multivariate Series"
      ],
      "metadata": {
        "id": "YTswD-AFBSfS"
      }
    },
    {
      "cell_type": "markdown",
      "source": [
        "**RICORDATI DI SCALARE I DATI**"
      ],
      "metadata": {
        "id": "LeqF4QmON6Ox"
      }
    },
    {
      "cell_type": "code",
      "source": [
        "tf.random.set_seed(seed)  # extra code – ensures reproducibility\n",
        "train_mulvar_ds = tf.keras.utils.timeseries_dataset_from_array(\n",
        "    train.to_numpy(),\n",
        "    targets=train['avg_invocations_rate'][sequence_lenght:],\n",
        "    sequence_length=sequence_lenght,\n",
        "    batch_size=batch_size,\n",
        "    shuffle=True,\n",
        "    seed=seed\n",
        ")\n",
        "valid_mulvar_ds = tf.keras.utils.timeseries_dataset_from_array(\n",
        "    valid.to_numpy(),\n",
        "    targets=valid['avg_invocations_rate'][sequence_lenght:],\n",
        "    sequence_length=sequence_lenght,\n",
        "    batch_size=batch_size\n",
        ")"
      ],
      "metadata": {
        "id": "v4RSluUPDC15"
      },
      "execution_count": 15,
      "outputs": []
    },
    {
      "cell_type": "markdown",
      "source": [
        "#### Simple RNN"
      ],
      "metadata": {
        "id": "IZo1FbvkBU2G"
      }
    },
    {
      "cell_type": "markdown",
      "source": [
        "Notice that the only difference from the univar_model RNN we built earlier\n",
        "is the input shape: at each time step, the model now receives num_features inputs instead of one."
      ],
      "metadata": {
        "id": "FmerdRFpJeVq"
      }
    },
    {
      "cell_type": "code",
      "source": [
        "mulvar_model = tf.keras.Sequential([\n",
        "  tf.keras.layers.SimpleRNN(batch_size, input_shape=[None, num_features]),\n",
        "  tf.keras.layers.Dense(1)\n",
        "])"
      ],
      "metadata": {
        "id": "RU_TV9bVHAiI"
      },
      "execution_count": 16,
      "outputs": []
    },
    {
      "cell_type": "code",
      "source": [
        "fit_and_evaluate(mulvar_model, train_mulvar_ds, valid_mulvar_ds)"
      ],
      "metadata": {
        "colab": {
          "base_uri": "https://localhost:8080/"
        },
        "id": "U4rXhWx8Hgiy",
        "outputId": "e8e1734b-c523-4320-f8c0-7db77b91e128"
      },
      "execution_count": 17,
      "outputs": [
        {
          "output_type": "stream",
          "name": "stdout",
          "text": [
            "Epoch 1/5\n",
            "\u001b[1m5/5\u001b[0m \u001b[32m━━━━━━━━━━━━━━━━━━━━\u001b[0m\u001b[37m\u001b[0m \u001b[1m3s\u001b[0m 140ms/step - loss: 0.4598 - mae: 0.8177 - val_loss: 0.4182 - val_mae: 0.8431\n",
            "Epoch 2/5\n",
            "\u001b[1m5/5\u001b[0m \u001b[32m━━━━━━━━━━━━━━━━━━━━\u001b[0m\u001b[37m\u001b[0m \u001b[1m0s\u001b[0m 26ms/step - loss: 0.2145 - mae: 0.5479 - val_loss: 0.0243 - val_mae: 0.1337\n",
            "Epoch 3/5\n",
            "\u001b[1m5/5\u001b[0m \u001b[32m━━━━━━━━━━━━━━━━━━━━\u001b[0m\u001b[37m\u001b[0m \u001b[1m0s\u001b[0m 14ms/step - loss: 0.0615 - mae: 0.2749 - val_loss: 0.0100 - val_mae: 0.0779\n",
            "Epoch 4/5\n",
            "\u001b[1m5/5\u001b[0m \u001b[32m━━━━━━━━━━━━━━━━━━━━\u001b[0m\u001b[37m\u001b[0m \u001b[1m0s\u001b[0m 16ms/step - loss: 0.0417 - mae: 0.2311 - val_loss: 0.0554 - val_mae: 0.2824\n",
            "Epoch 5/5\n",
            "\u001b[1m5/5\u001b[0m \u001b[32m━━━━━━━━━━━━━━━━━━━━\u001b[0m\u001b[37m\u001b[0m \u001b[1m0s\u001b[0m 14ms/step - loss: 0.0278 - mae: 0.1766 - val_loss: 0.0357 - val_mae: 0.2289\n",
            "\u001b[1m1/1\u001b[0m \u001b[32m━━━━━━━━━━━━━━━━━━━━\u001b[0m\u001b[37m\u001b[0m \u001b[1m0s\u001b[0m 47ms/step - loss: 0.0100 - mae: 0.0779\n"
          ]
        },
        {
          "output_type": "execute_result",
          "data": {
            "text/plain": [
              "77932.12682008743"
            ]
          },
          "metadata": {},
          "execution_count": 17
        }
      ]
    },
    {
      "cell_type": "markdown",
      "source": [
        "## Forecasting Several Time Steps Ahead"
      ],
      "metadata": {
        "id": "Hxy8onZc5uK_"
      }
    },
    {
      "cell_type": "markdown",
      "source": [
        "### Univariate Series"
      ],
      "metadata": {
        "id": "7jPTjdrTLgK4"
      }
    },
    {
      "cell_type": "markdown",
      "source": [
        "Consideriamo sempre:\n",
        "* tr = train['avg_invocations_rate']\n",
        "* vl = valid['avg_invocations_rate']"
      ],
      "metadata": {
        "id": "HIK_nBjiL5Vh"
      }
    },
    {
      "cell_type": "markdown",
      "metadata": {
        "id": "DR-ramnx2Q4c"
      },
      "source": [
        "#### RNN"
      ]
    },
    {
      "cell_type": "markdown",
      "source": [
        "The first option is to take the univar_model RNN we trained earlier for the\n",
        "rail time series, make it predict the next value, and add that value to the inputs,\n",
        "acting as if the predicted value had actually occurred; we would then use the\n",
        "model again to predict the following value, and so on."
      ],
      "metadata": {
        "id": "jb3gWHWIMwbS"
      }
    },
    {
      "cell_type": "code",
      "source": [
        "X = vl.to_numpy()[np.newaxis, :sequence_lenght, np.newaxis]\n",
        "for step_ahead in range(prediction_lenght):\n",
        "  y_pred_one = univar_model.predict(X)\n",
        "  X = np.concatenate([X, y_pred_one.reshape(1, 1, 1)], axis=1)"
      ],
      "metadata": {
        "colab": {
          "base_uri": "https://localhost:8080/"
        },
        "id": "5rI_LzjKKGuC",
        "outputId": "b8277886-5878-44c8-f82c-6313167ce5ac"
      },
      "execution_count": 18,
      "outputs": [
        {
          "output_type": "stream",
          "name": "stdout",
          "text": [
            "\u001b[1m1/1\u001b[0m \u001b[32m━━━━━━━━━━━━━━━━━━━━\u001b[0m\u001b[37m\u001b[0m \u001b[1m0s\u001b[0m 173ms/step\n",
            "\u001b[1m1/1\u001b[0m \u001b[32m━━━━━━━━━━━━━━━━━━━━\u001b[0m\u001b[37m\u001b[0m \u001b[1m0s\u001b[0m 170ms/step\n",
            "\u001b[1m1/1\u001b[0m \u001b[32m━━━━━━━━━━━━━━━━━━━━\u001b[0m\u001b[37m\u001b[0m \u001b[1m0s\u001b[0m 23ms/step\n",
            "\u001b[1m1/1\u001b[0m \u001b[32m━━━━━━━━━━━━━━━━━━━━\u001b[0m\u001b[37m\u001b[0m \u001b[1m0s\u001b[0m 26ms/step\n",
            "\u001b[1m1/1\u001b[0m \u001b[32m━━━━━━━━━━━━━━━━━━━━\u001b[0m\u001b[37m\u001b[0m \u001b[1m0s\u001b[0m 25ms/step\n",
            "\u001b[1m1/1\u001b[0m \u001b[32m━━━━━━━━━━━━━━━━━━━━\u001b[0m\u001b[37m\u001b[0m \u001b[1m0s\u001b[0m 27ms/step\n",
            "\u001b[1m1/1\u001b[0m \u001b[32m━━━━━━━━━━━━━━━━━━━━\u001b[0m\u001b[37m\u001b[0m \u001b[1m0s\u001b[0m 34ms/step\n",
            "\u001b[1m1/1\u001b[0m \u001b[32m━━━━━━━━━━━━━━━━━━━━\u001b[0m\u001b[37m\u001b[0m \u001b[1m0s\u001b[0m 30ms/step\n",
            "\u001b[1m1/1\u001b[0m \u001b[32m━━━━━━━━━━━━━━━━━━━━\u001b[0m\u001b[37m\u001b[0m \u001b[1m0s\u001b[0m 22ms/step\n",
            "\u001b[1m1/1\u001b[0m \u001b[32m━━━━━━━━━━━━━━━━━━━━\u001b[0m\u001b[37m\u001b[0m \u001b[1m0s\u001b[0m 23ms/step\n",
            "\u001b[1m1/1\u001b[0m \u001b[32m━━━━━━━━━━━━━━━━━━━━\u001b[0m\u001b[37m\u001b[0m \u001b[1m0s\u001b[0m 22ms/step\n",
            "\u001b[1m1/1\u001b[0m \u001b[32m━━━━━━━━━━━━━━━━━━━━\u001b[0m\u001b[37m\u001b[0m \u001b[1m0s\u001b[0m 24ms/step\n",
            "\u001b[1m1/1\u001b[0m \u001b[32m━━━━━━━━━━━━━━━━━━━━\u001b[0m\u001b[37m\u001b[0m \u001b[1m0s\u001b[0m 24ms/step\n",
            "\u001b[1m1/1\u001b[0m \u001b[32m━━━━━━━━━━━━━━━━━━━━\u001b[0m\u001b[37m\u001b[0m \u001b[1m0s\u001b[0m 25ms/step\n"
          ]
        }
      ]
    },
    {
      "cell_type": "code",
      "source": [
        "# The forecasts start on 2023-06-01, and they end\n",
        "# on 2019-06-14. That's 14 days in total.\n",
        "start = \"2023-06-15\"\n",
        "end = \"2023-06-28\"\n",
        "\n",
        "Y_pred = pd.Series(X[0, -prediction_lenght:, 0], index=pd.date_range(start, end))\n",
        "\n",
        "fig, ax = plt.subplots(figsize=(20, 7))\n",
        "(vl * 1e6)[\"2023-06-01\":end].plot(\n",
        "    label=\"True\", marker=\".\", ax=ax)\n",
        "(Y_pred * 1e6).plot(\n",
        "    label=\"Predictions\", grid=True, marker=\"x\", color=\"r\", ax=ax)\n",
        "ax.vlines(start, 0, 1e6, color=\"k\", linestyle=\"--\", label=\"Today\")\n",
        "#ax.set_ylim([200_000, 800_000])\n",
        "plt.legend(loc=\"center left\")\n",
        "#save_fig(\"forecast_ahead_plot\")\n",
        "plt.show()"
      ],
      "metadata": {
        "colab": {
          "base_uri": "https://localhost:8080/",
          "height": 543
        },
        "id": "zk7fOHGqNx_f",
        "outputId": "fa11c37c-1cbf-4843-a5d5-0cd07023d223"
      },
      "execution_count": 25,
      "outputs": [
        {
          "output_type": "display_data",
          "data": {
            "text/plain": [
              "<Figure size 2000x700 with 1 Axes>"
            ],
            "image/png": "[encoded data removed]"
          },
          "metadata": {}
        }
      ]
    },
    {
      "cell_type": "markdown",
      "source": [],
      "metadata": {
        "id": "9vhzIzOyKF9R"
      }
    },
    {
      "cell_type": "markdown",
      "source": [],
      "metadata": {
        "id": "y6G0pnDOKF6w"
      }
    },
    {
      "cell_type": "markdown",
      "source": [],
      "metadata": {
        "id": "FKqaU8oiKF36"
      }
    },
    {
      "cell_type": "markdown",
      "source": [],
      "metadata": {
        "id": "m7FIOTUWKF1e"
      }
    },
    {
      "cell_type": "markdown",
      "source": [],
      "metadata": {
        "id": "haU9lrlfKFyp"
      }
    },
    {
      "cell_type": "markdown",
      "source": [],
      "metadata": {
        "id": "Ct1Y9siYKFwC"
      }
    },
    {
      "cell_type": "markdown",
      "source": [],
      "metadata": {
        "id": "Kzy1afbLKFtY"
      }
    },
    {
      "cell_type": "markdown",
      "source": [],
      "metadata": {
        "id": "qsV5LXbSKFnL"
      }
    },
    {
      "cell_type": "markdown",
      "source": [],
      "metadata": {
        "id": "1nJCJqD-KFkh"
      }
    },
    {
      "cell_type": "markdown",
      "source": [],
      "metadata": {
        "id": "86_MG1iKKFhK"
      }
    }
  ],
  "metadata": {
    "colab": {
      "collapsed_sections": [
        "L5az4lSjaAcY",
        "YTswD-AFBSfS"
      ],
      "provenance": [],
      "toc_visible": true,
      "authorship_tag": "ABX9TyNxIzlkz5YSBeP/h67uyzj7",
      "include_colab_link": true
    },
    "kernelspec": {
      "display_name": "Python 3",
      "name": "python3"
    },
    "language_info": {
      "name": "python"
    }
  },
  "nbformat": 4,
  "nbformat_minor": 0
}